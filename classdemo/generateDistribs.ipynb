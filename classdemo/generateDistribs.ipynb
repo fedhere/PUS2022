{
  "nbformat": 4,
  "nbformat_minor": 0,
  "metadata": {
    "colab": {
      "provenance": [],
      "authorship_tag": "ABX9TyM3Hb27Zmrfo/VFLC4HIvri",
      "include_colab_link": true
    },
    "kernelspec": {
      "name": "python3",
      "display_name": "Python 3"
    },
    "language_info": {
      "name": "python"
    }
  },
  "cells": [
    {
      "cell_type": "markdown",
      "metadata": {
        "id": "view-in-github",
        "colab_type": "text"
      },
      "source": [
        "<a href=\"https://colab.research.google.com/github/fedhere/PUS2022_FBianco/blob/main/classdemo/generateDistribs.ipynb\" target=\"_parent\"><img src=\"https://colab.research.google.com/assets/colab-badge.svg\" alt=\"Open In Colab\"/></a>"
      ]
    },
    {
      "cell_type": "code",
      "execution_count": null,
      "metadata": {
        "id": "2VZKPhFcZeHf"
      },
      "outputs": [],
      "source": [
        "import scipy as sp\n",
        "from scipy import stats\n",
        "from matplotlib import pyplot as plt\n",
        "import numpy as np"
      ]
    },
    {
      "cell_type": "code",
      "source": [
        "sp.stats"
      ],
      "metadata": {
        "colab": {
          "base_uri": "https://localhost:8080/"
        },
        "id": "DdmbZ2eHZ07d",
        "outputId": "da8ff6dd-0f48-4f9d-d04d-b956fb26469e"
      },
      "execution_count": null,
      "outputs": [
        {
          "output_type": "execute_result",
          "data": {
            "text/plain": [
              "<module 'scipy.stats' from '/usr/local/lib/python3.7/dist-packages/scipy/stats/__init__.py'>"
            ]
          },
          "metadata": {},
          "execution_count": 21
        }
      ]
    },
    {
      "cell_type": "code",
      "source": [
        "mybins = np.arange(-5, 5.1, 0.2)"
      ],
      "metadata": {
        "id": "MNjzdR2acIQg"
      },
      "execution_count": null,
      "outputs": []
    },
    {
      "cell_type": "code",
      "source": [
        "np.random.seed(46)\n",
        "mynorm = sp.stats.norm.rvs(size=1000, loc=0, scale=1)"
      ],
      "metadata": {
        "id": "EyJsWJWiZ7Xk"
      },
      "execution_count": null,
      "outputs": []
    },
    {
      "cell_type": "code",
      "source": [
        "mynorm.std()"
      ],
      "metadata": {
        "colab": {
          "base_uri": "https://localhost:8080/"
        },
        "id": "HheC5vuBaf67",
        "outputId": "14124fb6-8805-4239-bf63-7da4ed549e36"
      },
      "execution_count": null,
      "outputs": [
        {
          "output_type": "execute_result",
          "data": {
            "text/plain": [
              "1.0185747074192268"
            ]
          },
          "metadata": {},
          "execution_count": 52
        }
      ]
    },
    {
      "cell_type": "code",
      "source": [
        "plt.hist(mynorm, bins=mybins);\n",
        "plt.xlabel(\"x\")\n",
        "plt.ylabel(\"occurence of x\");"
      ],
      "metadata": {
        "colab": {
          "base_uri": "https://localhost:8080/",
          "height": 279
        },
        "id": "i5pLBwydbFdh",
        "outputId": "598a60b1-7fc2-406d-907b-488a9f0c152f"
      },
      "execution_count": null,
      "outputs": [
        {
          "output_type": "display_data",
          "data": {
            "text/plain": [
              "<Figure size 432x288 with 1 Axes>"
            ],
            "image/png": "[encoded data removed]"
          },
          "metadata": {
            "needs_background": "light"
          }
        }
      ]
    },
    {
      "cell_type": "code",
      "source": [
        "mynorm = sp.stats.norm.rvs(size=1000, loc=0, scale=1)\n",
        "plt.hist(mynorm, bins=mybins);\n",
        "plt.xlabel(\"x\")\n",
        "plt.ylabel(\"occurence of x\");"
      ],
      "metadata": {
        "colab": {
          "base_uri": "https://localhost:8080/",
          "height": 279
        },
        "id": "XonUDouIb7XW",
        "outputId": "830f793c-c035-4446-bbea-98d790de6baa"
      },
      "execution_count": null,
      "outputs": [
        {
          "output_type": "display_data",
          "data": {
            "text/plain": [
              "<Figure size 432x288 with 1 Axes>"
            ],
            "image/png": "[encoded data removed]"
          },
          "metadata": {
            "needs_background": "light"
          }
        }
      ]
    },
    {
      "cell_type": "code",
      "source": [
        "mymornfunc = sp.stats.norm.pdf(mybins, loc=0, scale=1)"
      ],
      "metadata": {
        "id": "YQec44rdd5T6"
      },
      "execution_count": null,
      "outputs": []
    },
    {
      "cell_type": "code",
      "source": [
        "plt.plot(mybins, mymornfunc);\n",
        "plt.xlabel(\"x\")\n",
        "plt.ylabel(\"probability of x\");"
      ],
      "metadata": {
        "colab": {
          "base_uri": "https://localhost:8080/",
          "height": 279
        },
        "id": "8fmjIjixe-dr",
        "outputId": "d82809be-548d-4f08-b728-f14a607882e2"
      },
      "execution_count": null,
      "outputs": [
        {
          "output_type": "display_data",
          "data": {
            "text/plain": [
              "<Figure size 432x288 with 1 Axes>"
            ],
            "image/png": "[encoded data removed]"
          },
          "metadata": {
            "needs_background": "light"
          }
        }
      ]
    },
    {
      "cell_type": "code",
      "source": [
        "plt.hist(mynorm, bins=mybins, density=1);\n",
        "plt.plot(mybins, mymornfunc);\n",
        "\n",
        "plt.xlabel(\"x\")\n",
        "plt.ylabel(\"occurence of x\");"
      ],
      "metadata": {
        "colab": {
          "base_uri": "https://localhost:8080/",
          "height": 279
        },
        "id": "OQaGtuzffGbG",
        "outputId": "adaa91ff-9ea0-4a8b-c457-74a84ccca9ec"
      },
      "execution_count": null,
      "outputs": [
        {
          "output_type": "display_data",
          "data": {
            "text/plain": [
              "<Figure size 432x288 with 1 Axes>"
            ],
            "image/png": "[encoded data removed]"
          },
          "metadata": {
            "needs_background": "light"
          }
        }
      ]
    },
    {
      "cell_type": "code",
      "source": [
        "np.percentile(mynorm, [0.05, 0.25, 0.5, 0.75, 0.95])"
      ],
      "metadata": {
        "colab": {
          "base_uri": "https://localhost:8080/"
        },
        "id": "DbG7RK28fY0y",
        "outputId": "3eeeaf25-5b39-48e6-9d5f-8ac24b8487fd"
      },
      "execution_count": null,
      "outputs": [
        {
          "output_type": "execute_result",
          "data": {
            "text/plain": [
              "array([-3.27473639, -2.94277556, -2.60512138, -2.49720373, -2.37744739])"
            ]
          },
          "metadata": {},
          "execution_count": 73
        }
      ]
    },
    {
      "cell_type": "code",
      "source": [],
      "metadata": {
        "id": "4D_jH6hGgqjX"
      },
      "execution_count": null,
      "outputs": []
    }
  ]
}
