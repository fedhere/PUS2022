{
  "nbformat": 4,
  "nbformat_minor": 0,
  "metadata": {
    "colab": {
      "provenance": [],
      "include_colab_link": true
    },
    "kernelspec": {
      "name": "python3",
      "display_name": "Python 3"
    }
  },
  "cells": [
    {
      "cell_type": "markdown",
      "metadata": {
        "id": "view-in-github",
        "colab_type": "text"
      },
      "source": [
        "<a href=\"https://colab.research.google.com/github/fedhere/PUS2022_FBianco/blob/main/HW9/RandomForest_instructions.ipynb\" target=\"_parent\"><img src=\"https://colab.research.google.com/assets/colab-badge.svg\" alt=\"Open In Colab\"/></a>"
      ]
    },
    {
      "cell_type": "markdown",
      "metadata": {
        "id": "KW9Oy459fxHz"
      },
      "source": [
        "Following the paper \"Examining the feasibility of using open data to benchmark building energy usage in cities: A data science and policy perspective\" [Roth et al 2019](https://www.researchgate.net/publication/337074109_Examining_the_feasibility_of_using_open_data_to_benchmark_building_energy_usage_in_cities_A_data_science_and_policy_perspective), choose 2 cities in the dataset available through the paper's github repository https://github.com/Urban-Informatics-Lab/Open-Data-Benchmarking\n",
        "\n",
        "This paper is an excellent example of reproducible research. \n",
        "\n",
        "I also created an example of using random forest classifier and regressors here https://github.com/fedhere/PUS2022_FBianco/blob/master/classdemo/COVID19LOS_featureExtractionRFexample.ipynb and there are links at the bottom of this notebook to useful functions and examples on the internet of applications of methods you will need to use.\n",
        "\n",
        "1. Read the introduction to the paper and describe here (briefly) the goals of their analysis (and the analysis that you are about to reproduce). Max 200 words.\n",
        "2. Choose 2 cities (any 2 cities except Seattle cause I am running some of the Seattle analysis below for guidance)\n",
        "3. For each of the 2 cities reproduce their analysis by \n",
        "\n",
        "  3.1 gathering the original data from their repository (see below for Seattle example)\n",
        "\n",
        "  3.2 clean the data according to their data preparation scheme, including one-hot-encoding categorical variables, except to impute missing data using KNearestNeighors instead of Gibbs sampling (see below)\n",
        "\n",
        "  3.3 run a Random Forest (RF) Regressor to predict the total energy consumption.\n",
        "\n",
        "  3.4 evaluate the RF model performance by printing the R2 score (the default score in SKLearn RF) for training and test set (discuss)\n",
        "\n",
        "  3.5 plot the features sorted by their importance and identify the most important features. are they consistent between the 2 cities? are they consistent with the paper's result?\n",
        "4 compare the result for the 2 cities (discuss)\n",
        "\n",
        "5. Extra credit: \n",
        "\n",
        "  5.1 modify the target variable to a binary variable choosing the median of the variable values as the the energy threshold and predict whether the value is higher or lower than the threshold\n",
        "  5.2 Run a Random Forest Classifier to predict if an observation is in the upper 50% percentile or lower 50% percentile (above or below the median threshold)\n",
        "  5.3 Measure the performance of the model on training and test data\n",
        "  5.4 Measure the feature importance and assess if the important feature have changed (discuss)"
      ]
    },
    {
      "cell_type": "code",
      "metadata": {
        "id": "EVupHHIYHuUK"
      },
      "source": [
        "import pandas as pd"
      ],
      "execution_count": null,
      "outputs": []
    },
    {
      "cell_type": "markdown",
      "metadata": {
        "id": "5Wia-RaAXtJC"
      },
      "source": [
        "# choose a city and read in the data"
      ]
    },
    {
      "cell_type": "code",
      "metadata": {
        "id": "hmVzVH0dHwP1"
      },
      "source": [
        "seattle = pd.read_csv(\"https://raw.githubusercontent.com/Urban-Informatics-Lab/Open-Data-Benchmarking/master/Seattle/2016_Building_Energy_Benchmarking.csv\")"
      ],
      "execution_count": null,
      "outputs": []
    },
    {
      "cell_type": "markdown",
      "metadata": {
        "id": "2U-1HZY2Xodw"
      },
      "source": [
        "# inspect the dataframe"
      ]
    },
    {
      "cell_type": "code",
      "metadata": {
        "id": "aqrv8eULHxte",
        "outputId": "90e28ab7-1f17-4a50-db2e-811b90293f2d",
        "colab": {
          "base_uri": "https://localhost:8080/",
          "height": 297
        }
      },
      "source": [
        "seattle.describe()"
      ],
      "execution_count": null,
      "outputs": [
        {
          "output_type": "execute_result",
          "data": {
            "text/html": [
              "<div>\n",
              "<style scoped>\n",
              "    .dataframe tbody tr th:only-of-type {\n",
              "        vertical-align: middle;\n",
              "    }\n",
              "\n",
              "    .dataframe tbody tr th {\n",
              "        vertical-align: top;\n",
              "    }\n",
              "\n",
              "    .dataframe thead th {\n",
              "        text-align: right;\n",
              "    }\n",
              "</style>\n",
              "<table border=\"1\" class=\"dataframe\">\n",
              "  <thead>\n",
              "    <tr style=\"text-align: right;\">\n",
              "      <th></th>\n",
              "      <th>OSEBuildingID</th>\n",
              "      <th>DataYear</th>\n",
              "      <th>ZipCode</th>\n",
              "      <th>CouncilDistrictCode</th>\n",
              "      <th>Latitude</th>\n",
              "      <th>Longitude</th>\n",
              "      <th>YearBuilt</th>\n",
              "      <th>NumberofBuildings</th>\n",
              "      <th>NumberofFloors</th>\n",
              "      <th>PropertyGFATotal</th>\n",
              "      <th>PropertyGFAParking</th>\n",
              "      <th>PropertyGFABuilding(s)</th>\n",
              "      <th>LargestPropertyUseTypeGFA</th>\n",
              "      <th>SecondLargestPropertyUseTypeGFA</th>\n",
              "      <th>ThirdLargestPropertyUseTypeGFA</th>\n",
              "      <th>ENERGYSTARScore</th>\n",
              "      <th>SiteEUI(kBtu/sf)</th>\n",
              "      <th>SiteEUIWN(kBtu/sf)</th>\n",
              "      <th>SourceEUI(kBtu/sf)</th>\n",
              "      <th>SourceEUIWN(kBtu/sf)</th>\n",
              "      <th>SiteEnergyUse(kBtu)</th>\n",
              "      <th>SiteEnergyUseWN(kBtu)</th>\n",
              "      <th>SteamUse(kBtu)</th>\n",
              "      <th>Electricity(kWh)</th>\n",
              "      <th>Electricity(kBtu)</th>\n",
              "      <th>NaturalGas(therms)</th>\n",
              "      <th>NaturalGas(kBtu)</th>\n",
              "      <th>Comments</th>\n",
              "      <th>TotalGHGEmissions</th>\n",
              "      <th>GHGEmissionsIntensity</th>\n",
              "    </tr>\n",
              "  </thead>\n",
              "  <tbody>\n",
              "    <tr>\n",
              "      <th>count</th>\n",
              "      <td>3376.000000</td>\n",
              "      <td>3376.0</td>\n",
              "      <td>3360.000000</td>\n",
              "      <td>3376.000000</td>\n",
              "      <td>3376.000000</td>\n",
              "      <td>3376.000000</td>\n",
              "      <td>3376.000000</td>\n",
              "      <td>3368.000000</td>\n",
              "      <td>3376.000000</td>\n",
              "      <td>3.376000e+03</td>\n",
              "      <td>3376.000000</td>\n",
              "      <td>3.376000e+03</td>\n",
              "      <td>3.356000e+03</td>\n",
              "      <td>1679.000000</td>\n",
              "      <td>596.000000</td>\n",
              "      <td>2533.000000</td>\n",
              "      <td>3369.000000</td>\n",
              "      <td>3370.000000</td>\n",
              "      <td>3367.000000</td>\n",
              "      <td>3367.000000</td>\n",
              "      <td>3.371000e+03</td>\n",
              "      <td>3.370000e+03</td>\n",
              "      <td>3.367000e+03</td>\n",
              "      <td>3.367000e+03</td>\n",
              "      <td>3.367000e+03</td>\n",
              "      <td>3.367000e+03</td>\n",
              "      <td>3.367000e+03</td>\n",
              "      <td>0.0</td>\n",
              "      <td>3367.000000</td>\n",
              "      <td>3367.000000</td>\n",
              "    </tr>\n",
              "    <tr>\n",
              "      <th>mean</th>\n",
              "      <td>21208.991114</td>\n",
              "      <td>2016.0</td>\n",
              "      <td>98116.949107</td>\n",
              "      <td>4.439277</td>\n",
              "      <td>47.624033</td>\n",
              "      <td>-122.334795</td>\n",
              "      <td>1968.573164</td>\n",
              "      <td>1.106888</td>\n",
              "      <td>4.709123</td>\n",
              "      <td>9.483354e+04</td>\n",
              "      <td>8001.526066</td>\n",
              "      <td>8.683201e+04</td>\n",
              "      <td>7.917764e+04</td>\n",
              "      <td>28444.075817</td>\n",
              "      <td>11738.675166</td>\n",
              "      <td>67.918674</td>\n",
              "      <td>54.732116</td>\n",
              "      <td>57.033798</td>\n",
              "      <td>134.232848</td>\n",
              "      <td>137.783932</td>\n",
              "      <td>5.403667e+06</td>\n",
              "      <td>5.276726e+06</td>\n",
              "      <td>2.745959e+05</td>\n",
              "      <td>1.086639e+06</td>\n",
              "      <td>3.707612e+06</td>\n",
              "      <td>1.368505e+04</td>\n",
              "      <td>1.368505e+06</td>\n",
              "      <td>NaN</td>\n",
              "      <td>119.723971</td>\n",
              "      <td>1.175916</td>\n",
              "    </tr>\n",
              "    <tr>\n",
              "      <th>std</th>\n",
              "      <td>12223.757015</td>\n",
              "      <td>0.0</td>\n",
              "      <td>18.615205</td>\n",
              "      <td>2.120625</td>\n",
              "      <td>0.047758</td>\n",
              "      <td>0.027203</td>\n",
              "      <td>33.088156</td>\n",
              "      <td>2.108402</td>\n",
              "      <td>5.494465</td>\n",
              "      <td>2.188376e+05</td>\n",
              "      <td>32326.723928</td>\n",
              "      <td>2.079398e+05</td>\n",
              "      <td>2.017034e+05</td>\n",
              "      <td>54392.917928</td>\n",
              "      <td>29331.199286</td>\n",
              "      <td>26.873271</td>\n",
              "      <td>56.273124</td>\n",
              "      <td>57.163330</td>\n",
              "      <td>139.287554</td>\n",
              "      <td>139.109807</td>\n",
              "      <td>2.161063e+07</td>\n",
              "      <td>1.593879e+07</td>\n",
              "      <td>3.912173e+06</td>\n",
              "      <td>4.352478e+06</td>\n",
              "      <td>1.485066e+07</td>\n",
              "      <td>6.709781e+04</td>\n",
              "      <td>6.709781e+06</td>\n",
              "      <td>NaN</td>\n",
              "      <td>538.832227</td>\n",
              "      <td>1.821452</td>\n",
              "    </tr>\n",
              "    <tr>\n",
              "      <th>min</th>\n",
              "      <td>1.000000</td>\n",
              "      <td>2016.0</td>\n",
              "      <td>98006.000000</td>\n",
              "      <td>1.000000</td>\n",
              "      <td>47.499170</td>\n",
              "      <td>-122.414250</td>\n",
              "      <td>1900.000000</td>\n",
              "      <td>0.000000</td>\n",
              "      <td>0.000000</td>\n",
              "      <td>1.128500e+04</td>\n",
              "      <td>0.000000</td>\n",
              "      <td>3.636000e+03</td>\n",
              "      <td>5.656000e+03</td>\n",
              "      <td>0.000000</td>\n",
              "      <td>0.000000</td>\n",
              "      <td>1.000000</td>\n",
              "      <td>0.000000</td>\n",
              "      <td>0.000000</td>\n",
              "      <td>0.000000</td>\n",
              "      <td>-2.100000</td>\n",
              "      <td>0.000000e+00</td>\n",
              "      <td>0.000000e+00</td>\n",
              "      <td>0.000000e+00</td>\n",
              "      <td>-3.382680e+04</td>\n",
              "      <td>-1.154170e+05</td>\n",
              "      <td>0.000000e+00</td>\n",
              "      <td>0.000000e+00</td>\n",
              "      <td>NaN</td>\n",
              "      <td>-0.800000</td>\n",
              "      <td>-0.020000</td>\n",
              "    </tr>\n",
              "    <tr>\n",
              "      <th>25%</th>\n",
              "      <td>19990.750000</td>\n",
              "      <td>2016.0</td>\n",
              "      <td>98105.000000</td>\n",
              "      <td>3.000000</td>\n",
              "      <td>47.599860</td>\n",
              "      <td>-122.350662</td>\n",
              "      <td>1948.000000</td>\n",
              "      <td>1.000000</td>\n",
              "      <td>2.000000</td>\n",
              "      <td>2.848700e+04</td>\n",
              "      <td>0.000000</td>\n",
              "      <td>2.775600e+04</td>\n",
              "      <td>2.509475e+04</td>\n",
              "      <td>5000.000000</td>\n",
              "      <td>2239.000000</td>\n",
              "      <td>53.000000</td>\n",
              "      <td>27.900000</td>\n",
              "      <td>29.400000</td>\n",
              "      <td>74.699997</td>\n",
              "      <td>78.400002</td>\n",
              "      <td>9.251286e+05</td>\n",
              "      <td>9.701822e+05</td>\n",
              "      <td>0.000000e+00</td>\n",
              "      <td>1.874229e+05</td>\n",
              "      <td>6.394870e+05</td>\n",
              "      <td>0.000000e+00</td>\n",
              "      <td>0.000000e+00</td>\n",
              "      <td>NaN</td>\n",
              "      <td>9.495000</td>\n",
              "      <td>0.210000</td>\n",
              "    </tr>\n",
              "    <tr>\n",
              "      <th>50%</th>\n",
              "      <td>23112.000000</td>\n",
              "      <td>2016.0</td>\n",
              "      <td>98115.000000</td>\n",
              "      <td>4.000000</td>\n",
              "      <td>47.618675</td>\n",
              "      <td>-122.332495</td>\n",
              "      <td>1975.000000</td>\n",
              "      <td>1.000000</td>\n",
              "      <td>4.000000</td>\n",
              "      <td>4.417500e+04</td>\n",
              "      <td>0.000000</td>\n",
              "      <td>4.321600e+04</td>\n",
              "      <td>3.989400e+04</td>\n",
              "      <td>10664.000000</td>\n",
              "      <td>5043.000000</td>\n",
              "      <td>75.000000</td>\n",
              "      <td>38.599998</td>\n",
              "      <td>40.900002</td>\n",
              "      <td>96.199997</td>\n",
              "      <td>101.099998</td>\n",
              "      <td>1.803753e+06</td>\n",
              "      <td>1.904452e+06</td>\n",
              "      <td>0.000000e+00</td>\n",
              "      <td>3.451299e+05</td>\n",
              "      <td>1.177583e+06</td>\n",
              "      <td>3.237538e+03</td>\n",
              "      <td>3.237540e+05</td>\n",
              "      <td>NaN</td>\n",
              "      <td>33.920000</td>\n",
              "      <td>0.610000</td>\n",
              "    </tr>\n",
              "    <tr>\n",
              "      <th>75%</th>\n",
              "      <td>25994.250000</td>\n",
              "      <td>2016.0</td>\n",
              "      <td>98122.000000</td>\n",
              "      <td>7.000000</td>\n",
              "      <td>47.657115</td>\n",
              "      <td>-122.319407</td>\n",
              "      <td>1997.000000</td>\n",
              "      <td>1.000000</td>\n",
              "      <td>5.000000</td>\n",
              "      <td>9.099200e+04</td>\n",
              "      <td>0.000000</td>\n",
              "      <td>8.427625e+04</td>\n",
              "      <td>7.620025e+04</td>\n",
              "      <td>26640.000000</td>\n",
              "      <td>10138.750000</td>\n",
              "      <td>90.000000</td>\n",
              "      <td>60.400002</td>\n",
              "      <td>64.275002</td>\n",
              "      <td>143.899994</td>\n",
              "      <td>148.349998</td>\n",
              "      <td>4.222455e+06</td>\n",
              "      <td>4.381429e+06</td>\n",
              "      <td>0.000000e+00</td>\n",
              "      <td>8.293178e+05</td>\n",
              "      <td>2.829632e+06</td>\n",
              "      <td>1.189033e+04</td>\n",
              "      <td>1.189034e+06</td>\n",
              "      <td>NaN</td>\n",
              "      <td>93.940000</td>\n",
              "      <td>1.370000</td>\n",
              "    </tr>\n",
              "    <tr>\n",
              "      <th>max</th>\n",
              "      <td>50226.000000</td>\n",
              "      <td>2016.0</td>\n",
              "      <td>98272.000000</td>\n",
              "      <td>7.000000</td>\n",
              "      <td>47.733870</td>\n",
              "      <td>-122.220966</td>\n",
              "      <td>2015.000000</td>\n",
              "      <td>111.000000</td>\n",
              "      <td>99.000000</td>\n",
              "      <td>9.320156e+06</td>\n",
              "      <td>512608.000000</td>\n",
              "      <td>9.320156e+06</td>\n",
              "      <td>9.320156e+06</td>\n",
              "      <td>686750.000000</td>\n",
              "      <td>459748.000000</td>\n",
              "      <td>100.000000</td>\n",
              "      <td>834.400024</td>\n",
              "      <td>834.400024</td>\n",
              "      <td>2620.000000</td>\n",
              "      <td>2620.000000</td>\n",
              "      <td>8.739237e+08</td>\n",
              "      <td>4.716139e+08</td>\n",
              "      <td>1.349435e+08</td>\n",
              "      <td>1.925775e+08</td>\n",
              "      <td>6.570744e+08</td>\n",
              "      <td>2.979090e+06</td>\n",
              "      <td>2.979090e+08</td>\n",
              "      <td>NaN</td>\n",
              "      <td>16870.980000</td>\n",
              "      <td>34.090000</td>\n",
              "    </tr>\n",
              "  </tbody>\n",
              "</table>\n",
              "</div>"
            ],
            "text/plain": [
              "       OSEBuildingID  DataYear  ...  TotalGHGEmissions  GHGEmissionsIntensity\n",
              "count    3376.000000    3376.0  ...        3367.000000            3367.000000\n",
              "mean    21208.991114    2016.0  ...         119.723971               1.175916\n",
              "std     12223.757015       0.0  ...         538.832227               1.821452\n",
              "min         1.000000    2016.0  ...          -0.800000              -0.020000\n",
              "25%     19990.750000    2016.0  ...           9.495000               0.210000\n",
              "50%     23112.000000    2016.0  ...          33.920000               0.610000\n",
              "75%     25994.250000    2016.0  ...          93.940000               1.370000\n",
              "max     50226.000000    2016.0  ...       16870.980000              34.090000\n",
              "\n",
              "[8 rows x 30 columns]"
            ]
          },
          "metadata": {
            "tags": []
          },
          "execution_count": 221
        }
      ]
    },
    {
      "cell_type": "markdown",
      "metadata": {
        "id": "t2N6DSrXXx5z"
      },
      "source": [
        "# Clean the data \n",
        "follow closely the second paragraph of Section 4 DATA. Name each step you do accordingly to the description in the paragraf\n",
        "https://www.researchgate.net/publication/337074109_Examining_the_feasibility_of_using_open_data_to_benchmark_building_energy_usage_in_cities_A_data_science_and_policy_perspective \n",
        "\n",
        "you can also help yourself inspecting the final datasets posted on the github repo but name each action according to the paper narrative: for example, if you drop \"Building ID\" indicate that this is done as part of \n",
        "_We then cleaned the datasets by removing irrelevant building-identifying features (such as\n",
        "address)_, or if dropping a variable with too many missing values _removing features that had missing values for greater than 40% of the buildings in the dataset._"
      ]
    },
    {
      "cell_type": "code",
      "metadata": {
        "id": "k15rP8aaNXO7",
        "outputId": "bc477872-1fc0-4836-909e-d0624deee4ed",
        "colab": {
          "base_uri": "https://localhost:8080/",
          "height": 765
        }
      },
      "source": [
        "# summarize the number of rows with missing values for each column\n",
        "for c in seattle.columns:\n",
        "  \n",
        "  # count number of rows with missing values\n",
        "  n_miss = seattle[c].isnull().sum()\n",
        "  perc = n_miss / seattle.shape[0] * 100\n",
        "  print('%s (%s):  Missing: %d (%.1f%%)' % (c, seattle[c].dtype, \n",
        "                                                  n_miss, perc))\n"
      ],
      "execution_count": null,
      "outputs": [
        {
          "output_type": "stream",
          "text": [
            "OSEBuildingID (int64): > 56, Missing: 0 (0.0%)\n",
            "DataYear (int64): > 56, Missing: 0 (0.0%)\n",
            "BuildingType (object): > 56, Missing: 0 (0.0%)\n",
            "PrimaryPropertyType (object): > 56, Missing: 0 (0.0%)\n",
            "PropertyName (object): > 56, Missing: 0 (0.0%)\n",
            "Address (object): > 56, Missing: 0 (0.0%)\n",
            "City (object): > 56, Missing: 0 (0.0%)\n",
            "State (object): > 56, Missing: 0 (0.0%)\n",
            "ZipCode (float64): > 56, Missing: 16 (0.5%)\n",
            "TaxParcelIdentificationNumber (object): > 56, Missing: 0 (0.0%)\n",
            "CouncilDistrictCode (int64): > 56, Missing: 0 (0.0%)\n",
            "Neighborhood (object): > 56, Missing: 0 (0.0%)\n",
            "Latitude (float64): > 56, Missing: 0 (0.0%)\n",
            "Longitude (float64): > 56, Missing: 0 (0.0%)\n",
            "YearBuilt (int64): > 56, Missing: 0 (0.0%)\n",
            "NumberofBuildings (float64): > 56, Missing: 3 (0.1%)\n",
            "NumberofFloors (int64): > 56, Missing: 0 (0.0%)\n",
            "PropertyGFATotal (int64): > 56, Missing: 0 (0.0%)\n",
            "PropertyGFAParking (int64): > 56, Missing: 0 (0.0%)\n",
            "PropertyGFABuilding(s) (int64): > 56, Missing: 0 (0.0%)\n",
            "ListOfAllPropertyUseTypes (object): > 56, Missing: 4 (0.1%)\n",
            "LargestPropertyUseType (object): > 56, Missing: 15 (0.4%)\n",
            "LargestPropertyUseTypeGFA (float64): > 56, Missing: 15 (0.4%)\n",
            "SecondLargestPropertyUseType (object): > 56, Missing: 1692 (50.2%)\n",
            "SecondLargestPropertyUseTypeGFA (float64): > 56, Missing: 1692 (50.2%)\n",
            "ThirdLargestPropertyUseType (object): > 56, Missing: 2775 (82.3%)\n",
            "ThirdLargestPropertyUseTypeGFA (float64): > 56, Missing: 2775 (82.3%)\n",
            "YearsENERGYSTARCertified (object): > 56, Missing: 3252 (96.5%)\n",
            "ENERGYSTARScore (float64): > 56, Missing: 838 (24.9%)\n",
            "SiteEUI(kBtu/sf) (float64): > 56, Missing: 2 (0.1%)\n",
            "SiteEUIWN(kBtu/sf) (float64): > 56, Missing: 1 (0.0%)\n",
            "SourceEUI(kBtu/sf) (float64): > 56, Missing: 4 (0.1%)\n",
            "SourceEUIWN(kBtu/sf) (float64): > 56, Missing: 4 (0.1%)\n",
            "SiteEnergyUse(kBtu) (float64): > 56, Missing: 0 (0.0%)\n",
            "SiteEnergyUseWN(kBtu) (float64): > 56, Missing: 1 (0.0%)\n",
            "SteamUse(kBtu) (float64): > 56, Missing: 4 (0.1%)\n",
            "Electricity(kWh) (float64): > 56, Missing: 4 (0.1%)\n",
            "Electricity(kBtu) (float64): > 56, Missing: 4 (0.1%)\n",
            "NaturalGas(therms) (float64): > 56, Missing: 4 (0.1%)\n",
            "NaturalGas(kBtu) (float64): > 56, Missing: 4 (0.1%)\n",
            "DefaultData (bool): > 56, Missing: 0 (0.0%)\n",
            "Comments (float64): > 56, Missing: 3371 (100.0%)\n",
            "ComplianceStatus (object): > 56, Missing: 0 (0.0%)\n",
            "Outlier (object): > 56, Missing: 3339 (99.1%)\n",
            "TotalGHGEmissions (float64): > 56, Missing: 4 (0.1%)\n",
            "GHGEmissionsIntensity (float64): > 56, Missing: 4 (0.1%)\n"
          ],
          "name": "stdout"
        }
      ]
    },
    {
      "cell_type": "code",
      "metadata": {
        "id": "Iqyzl5moNwIw",
        "outputId": "a8ab6efa-a108-4f3e-cee7-bfc3cd5eee27",
        "colab": {
          "base_uri": "https://localhost:8080/",
          "height": 245
        }
      },
      "source": [
        "# summarize the number of rows with missing values for each column\n",
        "for c in seattle.columns:\n",
        "  # count number of rows with missing values\n",
        "  n_miss = seattle[c].isnull().sum()\n",
        "  perc = n_miss / seattle.shape[0] * 100\n",
        "  print('%s (%s):  Missing: %d (%.1f%%)' % (c, seattle[c].dtype, \n",
        "                                                  n_miss, perc))\n"
      ],
      "execution_count": null,
      "outputs": [
        {
          "output_type": "stream",
          "text": [
            "BuildingType (object): > 56, Missing: 0 (0.0%)\n",
            "PrimaryPropertyType (object): > 56, Missing: 0 (0.0%)\n",
            "ZipCode (float64): > 56, Missing: 16 (0.5%)\n",
            "CouncilDistrictCode (int64): > 56, Missing: 0 (0.0%)\n",
            "Neighborhood (object): > 56, Missing: 0 (0.0%)\n",
            "YearBuilt (int64): > 56, Missing: 0 (0.0%)\n",
            "NumberofBuildings (float64): > 56, Missing: 3 (0.1%)\n",
            "NumberofFloors (int64): > 56, Missing: 0 (0.0%)\n",
            "PropertyGFATotal (int64): > 56, Missing: 0 (0.0%)\n",
            "PropertyGFAParking (int64): > 56, Missing: 0 (0.0%)\n",
            "PropertyGFABuilding(s) (int64): > 56, Missing: 0 (0.0%)\n",
            "LargestPropertyUseType (object): > 56, Missing: 15 (0.4%)\n",
            "LargestPropertyUseTypeGFA (float64): > 56, Missing: 15 (0.4%)\n",
            "SiteEnergyUse(kBtu) (float64): > 56, Missing: 0 (0.0%)\n"
          ],
          "name": "stdout"
        }
      ]
    },
    {
      "cell_type": "markdown",
      "metadata": {
        "id": "XVD2IKLsZI2x"
      },
      "source": [
        "# transform input deature as needed\n",
        "for example replace features with log features. Guide yourself with the text, the final dataset names, and also the code here https://github.com/Urban-Informatics-Lab/Open-Data-Benchmarking/blob/master/Lasso_RandomForest.Rmd"
      ]
    },
    {
      "cell_type": "code",
      "metadata": {
        "id": "SWyHLyhCLYIm",
        "outputId": "b3bdd133-9f55-428f-d6d8-bc5c43b06360",
        "colab": {
          "base_uri": "https://localhost:8080/",
          "height": 297
        }
      },
      "source": [
        "seattle.describe()"
      ],
      "execution_count": null,
      "outputs": [
        {
          "output_type": "execute_result",
          "data": {
            "text/html": [
              "<div>\n",
              "<style scoped>\n",
              "    .dataframe tbody tr th:only-of-type {\n",
              "        vertical-align: middle;\n",
              "    }\n",
              "\n",
              "    .dataframe tbody tr th {\n",
              "        vertical-align: top;\n",
              "    }\n",
              "\n",
              "    .dataframe thead th {\n",
              "        text-align: right;\n",
              "    }\n",
              "</style>\n",
              "<table border=\"1\" class=\"dataframe\">\n",
              "  <thead>\n",
              "    <tr style=\"text-align: right;\">\n",
              "      <th></th>\n",
              "      <th>ZipCode</th>\n",
              "      <th>CouncilDistrictCode</th>\n",
              "      <th>YearBuilt</th>\n",
              "      <th>NumberofBuildings</th>\n",
              "      <th>NumberofFloors</th>\n",
              "      <th>PropertyGFATotal</th>\n",
              "      <th>PropertyGFAParking</th>\n",
              "      <th>PropertyGFABuilding(s)</th>\n",
              "      <th>LargestPropertyUseTypeGFA</th>\n",
              "      <th>SiteEnergyUse(kBtu)</th>\n",
              "    </tr>\n",
              "  </thead>\n",
              "  <tbody>\n",
              "    <tr>\n",
              "      <th>count</th>\n",
              "      <td>3355.000000</td>\n",
              "      <td>3371.000000</td>\n",
              "      <td>3371.000000</td>\n",
              "      <td>3368.000000</td>\n",
              "      <td>3371.000000</td>\n",
              "      <td>3.371000e+03</td>\n",
              "      <td>3371.000000</td>\n",
              "      <td>3.371000e+03</td>\n",
              "      <td>3.356000e+03</td>\n",
              "      <td>3.371000e+03</td>\n",
              "    </tr>\n",
              "    <tr>\n",
              "      <th>mean</th>\n",
              "      <td>98116.960656</td>\n",
              "      <td>4.437556</td>\n",
              "      <td>1968.593296</td>\n",
              "      <td>1.106888</td>\n",
              "      <td>4.711065</td>\n",
              "      <td>9.492369e+04</td>\n",
              "      <td>8010.863542</td>\n",
              "      <td>8.691282e+04</td>\n",
              "      <td>7.917764e+04</td>\n",
              "      <td>5.403667e+06</td>\n",
              "    </tr>\n",
              "    <tr>\n",
              "      <th>std</th>\n",
              "      <td>18.624965</td>\n",
              "      <td>2.121083</td>\n",
              "      <td>33.093615</td>\n",
              "      <td>2.108402</td>\n",
              "      <td>5.498221</td>\n",
              "      <td>2.189866e+05</td>\n",
              "      <td>32349.519109</td>\n",
              "      <td>2.080825e+05</td>\n",
              "      <td>2.017034e+05</td>\n",
              "      <td>2.161063e+07</td>\n",
              "    </tr>\n",
              "    <tr>\n",
              "      <th>min</th>\n",
              "      <td>98006.000000</td>\n",
              "      <td>1.000000</td>\n",
              "      <td>1900.000000</td>\n",
              "      <td>0.000000</td>\n",
              "      <td>0.000000</td>\n",
              "      <td>1.128500e+04</td>\n",
              "      <td>0.000000</td>\n",
              "      <td>3.636000e+03</td>\n",
              "      <td>5.656000e+03</td>\n",
              "      <td>0.000000e+00</td>\n",
              "    </tr>\n",
              "    <tr>\n",
              "      <th>25%</th>\n",
              "      <td>98105.000000</td>\n",
              "      <td>3.000000</td>\n",
              "      <td>1948.000000</td>\n",
              "      <td>1.000000</td>\n",
              "      <td>2.000000</td>\n",
              "      <td>2.849600e+04</td>\n",
              "      <td>0.000000</td>\n",
              "      <td>2.777900e+04</td>\n",
              "      <td>2.509475e+04</td>\n",
              "      <td>9.251286e+05</td>\n",
              "    </tr>\n",
              "    <tr>\n",
              "      <th>50%</th>\n",
              "      <td>98115.000000</td>\n",
              "      <td>4.000000</td>\n",
              "      <td>1975.000000</td>\n",
              "      <td>1.000000</td>\n",
              "      <td>4.000000</td>\n",
              "      <td>4.420200e+04</td>\n",
              "      <td>0.000000</td>\n",
              "      <td>4.322800e+04</td>\n",
              "      <td>3.989400e+04</td>\n",
              "      <td>1.803753e+06</td>\n",
              "    </tr>\n",
              "    <tr>\n",
              "      <th>75%</th>\n",
              "      <td>98122.000000</td>\n",
              "      <td>7.000000</td>\n",
              "      <td>1997.000000</td>\n",
              "      <td>1.000000</td>\n",
              "      <td>5.000000</td>\n",
              "      <td>9.110950e+04</td>\n",
              "      <td>0.000000</td>\n",
              "      <td>8.438700e+04</td>\n",
              "      <td>7.620025e+04</td>\n",
              "      <td>4.222455e+06</td>\n",
              "    </tr>\n",
              "    <tr>\n",
              "      <th>max</th>\n",
              "      <td>98272.000000</td>\n",
              "      <td>7.000000</td>\n",
              "      <td>2015.000000</td>\n",
              "      <td>111.000000</td>\n",
              "      <td>99.000000</td>\n",
              "      <td>9.320156e+06</td>\n",
              "      <td>512608.000000</td>\n",
              "      <td>9.320156e+06</td>\n",
              "      <td>9.320156e+06</td>\n",
              "      <td>8.739237e+08</td>\n",
              "    </tr>\n",
              "  </tbody>\n",
              "</table>\n",
              "</div>"
            ],
            "text/plain": [
              "            ZipCode  ...  SiteEnergyUse(kBtu)\n",
              "count   3355.000000  ...         3.371000e+03\n",
              "mean   98116.960656  ...         5.403667e+06\n",
              "std       18.624965  ...         2.161063e+07\n",
              "min    98006.000000  ...         0.000000e+00\n",
              "25%    98105.000000  ...         9.251286e+05\n",
              "50%    98115.000000  ...         1.803753e+06\n",
              "75%    98122.000000  ...         4.222455e+06\n",
              "max    98272.000000  ...         8.739237e+08\n",
              "\n",
              "[8 rows x 10 columns]"
            ]
          },
          "metadata": {
            "tags": []
          },
          "execution_count": 218
        }
      ]
    },
    {
      "cell_type": "markdown",
      "metadata": {
        "id": "Da-93SxbMFCX"
      },
      "source": [
        "check what happened to missing values, fix infinities replacing them with 0 as done in https://github.com/Urban-Informatics-Lab/Open-Data-Benchmarking/blob/master/Lasso_RandomForest.Rmd"
      ]
    },
    {
      "cell_type": "markdown",
      "metadata": {
        "id": "iNbDz-98ZvkM"
      },
      "source": [
        "# separate categorical and numerical values\n",
        "you will proceed to missing data imputation differently in the 2 cases"
      ]
    },
    {
      "cell_type": "code",
      "metadata": {
        "id": "7uQG7QcFPJUA"
      },
      "source": [
        "y = seattle['SiteEnergyUse(kBtu)'].values"
      ],
      "execution_count": null,
      "outputs": []
    },
    {
      "cell_type": "markdown",
      "metadata": {
        "id": "dfQnS9eVZ7A4"
      },
      "source": [
        "# use Nearest Neighbor Imputer to impute missing values in numerical features\n",
        "\n",
        "here we are deviating from the paper. NN imputation is simpler and more common, I think it may be more useful to you in general"
      ]
    },
    {
      "cell_type": "code",
      "metadata": {
        "id": "gNLiSt1fOCz4"
      },
      "source": [
        "from sklearn.impute import KNNImputer\n",
        "\n",
        "imputer = KNNImputer(...\n",
        "X1 = ..."
      ],
      "execution_count": null,
      "outputs": []
    },
    {
      "cell_type": "markdown",
      "metadata": {
        "id": "mW5GNpU0aFIO"
      },
      "source": [
        "# convert categorical variables to one-hot-encoded \n",
        "you will have to remove Nan values and replace them. You can choose to replace them with \"None\" or a similar string, for which you can use the fillna method: ```df.fillna(\"None\")``` and leave it at that or with a little more effort you can input values based on nearest neighbors or some other inputation scheme. any choice goes so long as it is well described and justified with words."
      ]
    },
    {
      "cell_type": "code",
      "metadata": {
        "id": "BJoES_oBQBIl",
        "outputId": "3fa4351c-7549-4010-8ff3-5a6d8db49850",
        "colab": {
          "base_uri": "https://localhost:8080/",
          "height": 651
        }
      },
      "source": [
        "from sklearn.preprocessing import OneHotEncoder\n",
        "\n",
        "enc = OneHotEncoder(handle_unknown='ignore')...\n",
        "X2 = ..."
      ],
      "execution_count": null,
      "outputs": [
        {
          "output_type": "execute_result",
          "data": {
            "text/plain": [
              "[array(['Campus', 'Multifamily HR (10+)', 'Multifamily LR (1-4)',\n",
              "        'Multifamily MR (5-9)', 'NonResidential', 'Nonresidential COS',\n",
              "        'Nonresidential WA', 'SPS-District K-12'], dtype=object),\n",
              " array(['Distribution Center', 'High-Rise Multifamily', 'Hospital',\n",
              "        'Hotel', 'K-12 School', 'Laboratory', 'Large Office',\n",
              "        'Low-Rise Multifamily', 'Medical Office', 'Mid-Rise Multifamily',\n",
              "        'Mixed Use Property', 'Office', 'Other', 'Refrigerated Warehouse',\n",
              "        'Residence Hall', 'Restaurant', 'Retail Store',\n",
              "        'Self-Storage Facility', 'Senior Care Community',\n",
              "        'Small- and Mid-Sized Office', 'Supermarket / Grocery Store',\n",
              "        'University', 'Warehouse', 'Worship Facility'], dtype=object),\n",
              " array(['BALLARD', 'Ballard', 'CENTRAL', 'Central', 'DELRIDGE',\n",
              "        'DELRIDGE NEIGHBORHOODS', 'DOWNTOWN', 'Delridge', 'EAST',\n",
              "        'GREATER DUWAMISH', 'LAKE UNION', 'MAGNOLIA / QUEEN ANNE', 'NORTH',\n",
              "        'NORTHEAST', 'NORTHWEST', 'North', 'Northwest', 'SOUTHEAST',\n",
              "        'SOUTHWEST'], dtype=object),\n",
              " array(['Adult Education', 'Automobile Dealership', 'Bank Branch',\n",
              "        'College/University', 'Convention Center', 'Courthouse',\n",
              "        'Data Center', 'Distribution Center', 'Financial Office',\n",
              "        'Fire Station', 'Fitness Center/Health Club/Gym', 'Food Service',\n",
              "        'Hospital (General Medical & Surgical)', 'Hotel', 'K-12 School',\n",
              "        'Laboratory', 'Library', 'Lifestyle Center',\n",
              "        'Manufacturing/Industrial Plant', 'Medical Office',\n",
              "        'Movie Theater', 'Multifamily Housing', 'Museum',\n",
              "        'Non-Refrigerated Warehouse', 'None', 'Office', 'Other',\n",
              "        'Other - Education', 'Other - Entertainment/Public Assembly',\n",
              "        'Other - Lodging/Residential', 'Other - Mall',\n",
              "        'Other - Public Services', 'Other - Recreation',\n",
              "        'Other - Restaurant/Bar', 'Other - Services', 'Other - Utility',\n",
              "        'Other/Specialty Hospital', 'Parking', 'Performing Arts',\n",
              "        'Personal Services (Health/Beauty, Dry Cleaning, etc)',\n",
              "        'Police Station', 'Pre-school/Daycare', 'Prison/Incarceration',\n",
              "        'Refrigerated Warehouse',\n",
              "        'Repair Services (Vehicle, Shoe, Locksmith, etc)',\n",
              "        'Residence Hall/Dormitory', 'Residential Care Facility',\n",
              "        'Restaurant', 'Retail Store', 'Self-Storage Facility',\n",
              "        'Senior Care Community', 'Social/Meeting Hall', 'Strip Mall',\n",
              "        'Supermarket/Grocery Store', 'Urgent Care/Clinic/Other Outpatient',\n",
              "        'Wholesale Club/Supercenter', 'Worship Facility'], dtype=object)]"
            ]
          },
          "metadata": {
            "tags": []
          },
          "execution_count": 179
        }
      ]
    },
    {
      "cell_type": "markdown",
      "metadata": {
        "id": "3Wd7WBC6fSSI"
      },
      "source": [
        "# combine your numerical and categorical imput features and split your data into training and testing"
      ]
    },
    {
      "cell_type": "code",
      "metadata": {
        "id": "eq9FKlTgOsvX",
        "outputId": "089c4674-14cd-4cf8-ade5-9f9504c78b8e",
        "colab": {
          "base_uri": "https://localhost:8080/",
          "height": 33
        }
      },
      "source": [
        "X1.shape"
      ],
      "execution_count": null,
      "outputs": [
        {
          "output_type": "execute_result",
          "data": {
            "text/plain": [
              "(3371, 9)"
            ]
          },
          "metadata": {
            "tags": []
          },
          "execution_count": 181
        }
      ]
    },
    {
      "cell_type": "code",
      "metadata": {
        "id": "ob2Nd1_pTeAx",
        "outputId": "f201374a-067c-41c2-8e5c-a79ea9c90ddd",
        "colab": {
          "base_uri": "https://localhost:8080/",
          "height": 33
        }
      },
      "source": [
        "X2.shape"
      ],
      "execution_count": null,
      "outputs": [
        {
          "output_type": "execute_result",
          "data": {
            "text/plain": [
              "(3371, 108)"
            ]
          },
          "metadata": {
            "tags": []
          },
          "execution_count": 182
        }
      ]
    },
    {
      "cell_type": "code",
      "metadata": {
        "id": "0taJGPcRTfLN",
        "outputId": "845ed080-ff26-4832-b3a2-1aa41f51aef0",
        "colab": {
          "base_uri": "https://localhost:8080/",
          "height": 33
        }
      },
      "source": [
        "X = np.hstack([X1, X2])\n",
        "X.shape"
      ],
      "execution_count": null,
      "outputs": [
        {
          "output_type": "execute_result",
          "data": {
            "text/plain": [
              "(3371, 117)"
            ]
          },
          "metadata": {
            "tags": []
          },
          "execution_count": 183
        }
      ]
    },
    {
      "cell_type": "code",
      "metadata": {
        "id": "WCUUattUUfqR"
      },
      "source": [
        "from sklearn.model_selection import train_test_split\n",
        "\n",
        "X_train, X_test, y_train, y_test = train_test_split(\n",
        "    X, y, test_size=0.25, random_state=42)"
      ],
      "execution_count": null,
      "outputs": []
    },
    {
      "cell_type": "markdown",
      "metadata": {
        "id": "ao-6jRG0fdNT"
      },
      "source": [
        "# run a random forest REGRESSION model\n",
        "\n",
        "report the score on the tranining and test data and identify the most important features"
      ]
    },
    {
      "cell_type": "code",
      "metadata": {
        "id": "kEiFt_htTjNF",
        "outputId": "0c078598-b506-47e1-d818-bdc3626c4d73",
        "colab": {
          "base_uri": "https://localhost:8080/",
          "height": 131
        }
      },
      "source": [
        "from sklearn.ensemble import RandomForestRegressor\n",
        "rf = RandomForestRegressor(max_depth=2, random_state=0)\n",
        "rf.fit(X_train, y_train,)\n"
      ],
      "execution_count": null,
      "outputs": [
        {
          "output_type": "execute_result",
          "data": {
            "text/plain": [
              "RandomForestRegressor(bootstrap=True, ccp_alpha=0.0, criterion='mse',\n",
              "                      max_depth=2, max_features='auto', max_leaf_nodes=None,\n",
              "                      max_samples=None, min_impurity_decrease=0.0,\n",
              "                      min_impurity_split=None, min_samples_leaf=1,\n",
              "                      min_samples_split=2, min_weight_fraction_leaf=0.0,\n",
              "                      n_estimators=100, n_jobs=None, oob_score=False,\n",
              "                      random_state=0, verbose=0, warm_start=False)"
            ]
          },
          "metadata": {
            "tags": []
          },
          "execution_count": 185
        }
      ]
    },
    {
      "cell_type": "code",
      "metadata": {
        "id": "ymTuhJURT8hC"
      },
      "source": [
        "rf.score(X_test, y_test)"
      ],
      "execution_count": null,
      "outputs": []
    },
    {
      "cell_type": "code",
      "metadata": {
        "id": "jX2RquwBUT0a"
      },
      "source": [
        "rf.feature_importances_"
      ],
      "execution_count": null,
      "outputs": []
    },
    {
      "cell_type": "code",
      "metadata": {
        "id": "465vWw5gWGA3"
      },
      "source": [
        "feature_names = ..."
      ],
      "execution_count": null,
      "outputs": []
    },
    {
      "cell_type": "code",
      "metadata": {
        "id": "jO9F9bMRUYgU",
        "outputId": "f2be4d36-0bd6-4a93-971a-5bd79921c8ec",
        "colab": {
          "base_uri": "https://localhost:8080/",
          "height": 1000
        }
      },
      "source": [
        "import pylab as plt\n",
        "tree_feature_importances = (\n",
        "    rf.feature_importances_)\n",
        "sorted_idx = tree_feature_importances.argsort()\n",
        "\n",
        "y_ticks = np.arange(0, len(feature_names))\n",
        "fig, ax = plt.subplots(figsize=(10,20))\n",
        "ax.barh(y_ticks, tree_feature_importances[sorted_idx])\n",
        "ax.set_yticklabels(feature_names[sorted_idx])\n",
        "ax.set_yticks(y_ticks)\n",
        "ax.set_title(\"Random Forest Feature Importances (MDI)\")\n",
        "fig.tight_layout()\n",
        "plt.show()"
      ],
      "execution_count": null,
      "outputs": [
        {
          "output_type": "display_data",
          "data": {
            "image/png": "[encoded data removed]",
            "text/plain": [
              "<Figure size 720x1440 with 1 Axes>"
            ]
          },
          "metadata": {
            "tags": [],
            "needs_background": "light"
          }
        }
      ]
    },
    {
      "cell_type": "markdown",
      "metadata": {
        "id": "XZxr_mNXV5QB"
      },
      "source": [
        "# useful links and methods and functions I used: \n",
        "\n",
        "```df.dropna()``` to remove observation with missing variables\n",
        "\n",
        "```df.drop(columns, axis=1)``` to remove features (columns)\n",
        "\n",
        "\n",
        "```np.log10()``` and ```np.isinf()``` to convert to log space and find infinite values  \n"
      ]
    },
    {
      "cell_type": "markdown",
      "metadata": {
        "id": "glzZInBSoLjW"
      },
      "source": [
        "one hot encoder https://scikit-learn.org/stable/modules/generated/sklearn.preprocessing.OneHotEncoder.html and https://stackabuse.com/one-hot-encoding-in-python-with-pandas-and-scikit-learn/\n"
      ]
    },
    {
      "cell_type": "markdown",
      "metadata": {
        "id": "c9_0ZFaGqRj1"
      },
      "source": [
        "KNN imputer https://scikit-learn.org/stable/modules/generated/sklearn.impute.KNNImputer.html , https://www.analyticsvidhya.com/blog/2020/07/knnimputer-a-robust-way-to-impute-missing-values-using-scikit-learn/, and \n",
        "https://machinelearningmastery.com/knn-imputation-for-missing-values-in-machine-learning/  "
      ]
    },
    {
      "cell_type": "code",
      "metadata": {
        "id": "bKLcYpBcqggC"
      },
      "source": [],
      "execution_count": null,
      "outputs": []
    }
  ]
}
